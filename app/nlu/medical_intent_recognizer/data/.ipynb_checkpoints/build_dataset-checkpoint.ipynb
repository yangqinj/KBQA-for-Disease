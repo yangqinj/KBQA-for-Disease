{
 "cells": [
  {
   "cell_type": "markdown",
   "id": "49cd329a",
   "metadata": {},
   "source": [
    "使用CMID(Chinese Meical Intent Dataset)数据集构建本对话系统的医疗意图分类数据集。"
   ]
  },
  {
   "cell_type": "code",
   "execution_count": 1,
   "id": "0ae3323c",
   "metadata": {},
   "outputs": [],
   "source": [
    "import pandas as pd"
   ]
  },
  {
   "cell_type": "code",
   "execution_count": 2,
   "id": "b561147b",
   "metadata": {},
   "outputs": [
    {
     "data": {
      "text/html": [
       "<div>\n",
       "<style scoped>\n",
       "    .dataframe tbody tr th:only-of-type {\n",
       "        vertical-align: middle;\n",
       "    }\n",
       "\n",
       "    .dataframe tbody tr th {\n",
       "        vertical-align: top;\n",
       "    }\n",
       "\n",
       "    .dataframe thead th {\n",
       "        text-align: right;\n",
       "    }\n",
       "</style>\n",
       "<table border=\"1\" class=\"dataframe\">\n",
       "  <thead>\n",
       "    <tr style=\"text-align: right;\">\n",
       "      <th></th>\n",
       "      <th>originalText</th>\n",
       "      <th>entities</th>\n",
       "      <th>seg_result</th>\n",
       "      <th>label_4class</th>\n",
       "      <th>label_36class</th>\n",
       "    </tr>\n",
       "  </thead>\n",
       "  <tbody>\n",
       "    <tr>\n",
       "      <th>0</th>\n",
       "      <td>在县医院确诊肺结核，吃免费抗结核药一个半月，咳嗽加重，咳痰有血丝，需要怎样进一步治疗</td>\n",
       "      <td>[{'label_type': '疾病和诊断', 'start_pos': 6, 'end_...</td>\n",
       "      <td>[在, 县, 医院, 确诊, 肺结核, ，, 吃, 免费, 抗结核, 药, 一个半月, ，,...</td>\n",
       "      <td>['病症']</td>\n",
       "      <td>['治疗方法']</td>\n",
       "    </tr>\n",
       "    <tr>\n",
       "      <th>1</th>\n",
       "      <td>肚子上长了些红色痘是风疹吗？</td>\n",
       "      <td>[]</td>\n",
       "      <td>[肚子, 上长, 了, 些, 红色, 痘, 是, 风疹, 吗, ？]</td>\n",
       "      <td>['病症']</td>\n",
       "      <td>['定义']</td>\n",
       "    </tr>\n",
       "    <tr>\n",
       "      <th>2</th>\n",
       "      <td>肚子上长红色痘会有可能是风疹吗</td>\n",
       "      <td>[]</td>\n",
       "      <td>[肚子, 上长, 红色, 痘, 会, 有, 可能, 是, 风疹, 吗]</td>\n",
       "      <td>['病症']</td>\n",
       "      <td>['定义']</td>\n",
       "    </tr>\n",
       "    <tr>\n",
       "      <th>3</th>\n",
       "      <td>肚子上长痘会是风疹吗</td>\n",
       "      <td>[]</td>\n",
       "      <td>[肚子, 上长, 痘, 会, 是, 风疹, 吗]</td>\n",
       "      <td>['病症']</td>\n",
       "      <td>['定义']</td>\n",
       "    </tr>\n",
       "    <tr>\n",
       "      <th>4</th>\n",
       "      <td>两天前开始喉咙痛，咽喉部有浓痰，睡觉痰有影响呼吸问题，头痛，今天凌晨开始流鼻涕，腿软</td>\n",
       "      <td>[{'label_type': '解剖部位', 'start_pos': 5, 'end_p...</td>\n",
       "      <td>[两天, 前, 开始, 喉咙痛, ，, 咽喉部, 有, 浓痰, ，, 睡觉, 痰, 有, 影...</td>\n",
       "      <td>['病症']</td>\n",
       "      <td>['临床表现(病症表现)']</td>\n",
       "    </tr>\n",
       "  </tbody>\n",
       "</table>\n",
       "</div>"
      ],
      "text/plain": [
       "                                 originalText  \\\n",
       "0  在县医院确诊肺结核，吃免费抗结核药一个半月，咳嗽加重，咳痰有血丝，需要怎样进一步治疗   \n",
       "1                              肚子上长了些红色痘是风疹吗？   \n",
       "2                             肚子上长红色痘会有可能是风疹吗   \n",
       "3                                  肚子上长痘会是风疹吗   \n",
       "4  两天前开始喉咙痛，咽喉部有浓痰，睡觉痰有影响呼吸问题，头痛，今天凌晨开始流鼻涕，腿软   \n",
       "\n",
       "                                            entities  \\\n",
       "0  [{'label_type': '疾病和诊断', 'start_pos': 6, 'end_...   \n",
       "1                                                 []   \n",
       "2                                                 []   \n",
       "3                                                 []   \n",
       "4  [{'label_type': '解剖部位', 'start_pos': 5, 'end_p...   \n",
       "\n",
       "                                          seg_result label_4class  \\\n",
       "0  [在, 县, 医院, 确诊, 肺结核, ，, 吃, 免费, 抗结核, 药, 一个半月, ，,...       ['病症']   \n",
       "1                 [肚子, 上长, 了, 些, 红色, 痘, 是, 风疹, 吗, ？]       ['病症']   \n",
       "2                [肚子, 上长, 红色, 痘, 会, 有, 可能, 是, 风疹, 吗]       ['病症']   \n",
       "3                           [肚子, 上长, 痘, 会, 是, 风疹, 吗]       ['病症']   \n",
       "4  [两天, 前, 开始, 喉咙痛, ，, 咽喉部, 有, 浓痰, ，, 睡觉, 痰, 有, 影...       ['病症']   \n",
       "\n",
       "    label_36class  \n",
       "0        ['治疗方法']  \n",
       "1          ['定义']  \n",
       "2          ['定义']  \n",
       "3          ['定义']  \n",
       "4  ['临床表现(病症表现)']  "
      ]
     },
     "execution_count": 2,
     "metadata": {},
     "output_type": "execute_result"
    }
   ],
   "source": [
    "df = pd.read_json(\"/Users/yangqj/Documents/Workspace/datasets/CMID-master/CMID.json\")\n",
    "df.head()"
   ]
  },
  {
   "cell_type": "code",
   "execution_count": 3,
   "id": "e7641b50",
   "metadata": {},
   "outputs": [
    {
     "data": {
      "text/html": [
       "<div>\n",
       "<style scoped>\n",
       "    .dataframe tbody tr th:only-of-type {\n",
       "        vertical-align: middle;\n",
       "    }\n",
       "\n",
       "    .dataframe tbody tr th {\n",
       "        vertical-align: top;\n",
       "    }\n",
       "\n",
       "    .dataframe thead th {\n",
       "        text-align: right;\n",
       "    }\n",
       "</style>\n",
       "<table border=\"1\" class=\"dataframe\">\n",
       "  <thead>\n",
       "    <tr style=\"text-align: right;\">\n",
       "      <th></th>\n",
       "      <th>originalText</th>\n",
       "      <th>label_4class</th>\n",
       "      <th>label_36class</th>\n",
       "    </tr>\n",
       "  </thead>\n",
       "  <tbody>\n",
       "    <tr>\n",
       "      <th>0</th>\n",
       "      <td>在县医院确诊肺结核，吃免费抗结核药一个半月，咳嗽加重，咳痰有血丝，需要怎样进一步治疗</td>\n",
       "      <td>['病症']</td>\n",
       "      <td>['治疗方法']</td>\n",
       "    </tr>\n",
       "    <tr>\n",
       "      <th>1</th>\n",
       "      <td>肚子上长了些红色痘是风疹吗？</td>\n",
       "      <td>['病症']</td>\n",
       "      <td>['定义']</td>\n",
       "    </tr>\n",
       "    <tr>\n",
       "      <th>2</th>\n",
       "      <td>肚子上长红色痘会有可能是风疹吗</td>\n",
       "      <td>['病症']</td>\n",
       "      <td>['定义']</td>\n",
       "    </tr>\n",
       "    <tr>\n",
       "      <th>3</th>\n",
       "      <td>肚子上长痘会是风疹吗</td>\n",
       "      <td>['病症']</td>\n",
       "      <td>['定义']</td>\n",
       "    </tr>\n",
       "    <tr>\n",
       "      <th>4</th>\n",
       "      <td>两天前开始喉咙痛，咽喉部有浓痰，睡觉痰有影响呼吸问题，头痛，今天凌晨开始流鼻涕，腿软</td>\n",
       "      <td>['病症']</td>\n",
       "      <td>['临床表现(病症表现)']</td>\n",
       "    </tr>\n",
       "  </tbody>\n",
       "</table>\n",
       "</div>"
      ],
      "text/plain": [
       "                                 originalText label_4class   label_36class\n",
       "0  在县医院确诊肺结核，吃免费抗结核药一个半月，咳嗽加重，咳痰有血丝，需要怎样进一步治疗       ['病症']        ['治疗方法']\n",
       "1                              肚子上长了些红色痘是风疹吗？       ['病症']          ['定义']\n",
       "2                             肚子上长红色痘会有可能是风疹吗       ['病症']          ['定义']\n",
       "3                                  肚子上长痘会是风疹吗       ['病症']          ['定义']\n",
       "4  两天前开始喉咙痛，咽喉部有浓痰，睡觉痰有影响呼吸问题，头痛，今天凌晨开始流鼻涕，腿软       ['病症']  ['临床表现(病症表现)']"
      ]
     },
     "execution_count": 3,
     "metadata": {},
     "output_type": "execute_result"
    }
   ],
   "source": [
    "df.drop(columns=[\"entities\", \"seg_result\"], inplace=True)\n",
    "df.head()"
   ]
  },
  {
   "cell_type": "code",
   "execution_count": 4,
   "id": "107f5149",
   "metadata": {},
   "outputs": [
    {
     "name": "stdout",
     "output_type": "stream",
     "text": [
      "<class 'pandas.core.frame.DataFrame'>\n",
      "RangeIndex: 12254 entries, 0 to 12253\n",
      "Data columns (total 3 columns):\n",
      " #   Column         Non-Null Count  Dtype \n",
      "---  ------         --------------  ----- \n",
      " 0   originalText   12254 non-null  object\n",
      " 1   label_4class   12254 non-null  object\n",
      " 2   label_36class  12254 non-null  object\n",
      "dtypes: object(3)\n",
      "memory usage: 287.3+ KB\n"
     ]
    }
   ],
   "source": [
    "df.info()"
   ]
  },
  {
   "cell_type": "markdown",
   "id": "44db93d0",
   "metadata": {},
   "source": [
    "## 抽取需要的类型"
   ]
  },
  {
   "cell_type": "code",
   "execution_count": 5,
   "id": "743b3767",
   "metadata": {},
   "outputs": [
    {
     "data": {
      "text/plain": [
       "{'两性',\n",
       " '严重性',\n",
       " '临床意义/检查目的',\n",
       " '临床表现(病症表现)',\n",
       " '价钱',\n",
       " '传染性',\n",
       " '作用',\n",
       " '养生',\n",
       " '副作用',\n",
       " '功效',\n",
       " '化验/体检方案',\n",
       " '多问',\n",
       " '定义',\n",
       " '对比',\n",
       " '恢复',\n",
       " '恢复时间',\n",
       " '成分',\n",
       " '所属科室',\n",
       " '手术时间',\n",
       " '推荐医院',\n",
       " '整容',\n",
       " '方法',\n",
       " '无法确定',\n",
       " '有效时间',\n",
       " '正常指标',\n",
       " '治愈率',\n",
       " '治疗方法',\n",
       " '治疗时间',\n",
       " '用法',\n",
       " '疗效',\n",
       " '病因',\n",
       " '病症禁忌',\n",
       " '相关病症',\n",
       " '禁忌',\n",
       " '药物禁忌',\n",
       " '设备用法',\n",
       " '诱因',\n",
       " '费用',\n",
       " '适用症',\n",
       " '预防'}"
      ]
     },
     "execution_count": 5,
     "metadata": {},
     "output_type": "execute_result"
    }
   ],
   "source": [
    "unique_labels = set([x[0].strip(\"'\") for x in df[\"label_36class\"]])\n",
    "unique_labels"
   ]
  },
  {
   "cell_type": "code",
   "execution_count": 6,
   "id": "444e40fd",
   "metadata": {},
   "outputs": [],
   "source": [
    "use_class = [\n",
    "    \"治疗方法\",\n",
    "    \"定义\",\n",
    "    \"临床表现(病症表现)\",\n",
    "    \"适用症\",\n",
    "    \"禁忌\",\n",
    "    \"相关病症\",\n",
    "    \"病因\",\n",
    "    \"化验/体检方案\",\n",
    "    \"治愈率\",\n",
    "    \"方法\",\n",
    "    \"传染性\",\n",
    "    \"预防\",\n",
    "    \"费用\",\n",
    "    \"所属科室\",\n",
    "    \"治疗时间\",\n",
    "    \"病症禁忌\",\n",
    "    \"其他\"\n",
    "]"
   ]
  },
  {
   "cell_type": "code",
   "execution_count": 7,
   "id": "715148c5",
   "metadata": {},
   "outputs": [],
   "source": [
    "def pickup_label(x):\n",
    "    if x[\"label_4class\"][0] == \"其他\":\n",
    "        return \"其他\"\n",
    "    elif x[\"label_36class\"][0] in use_class:\n",
    "        return x[\"label_36class\"][0]\n",
    "    else:\n",
    "        return None"
   ]
  },
  {
   "cell_type": "code",
   "execution_count": 8,
   "id": "8ace95b6",
   "metadata": {},
   "outputs": [
    {
     "data": {
      "text/html": [
       "<div>\n",
       "<style scoped>\n",
       "    .dataframe tbody tr th:only-of-type {\n",
       "        vertical-align: middle;\n",
       "    }\n",
       "\n",
       "    .dataframe tbody tr th {\n",
       "        vertical-align: top;\n",
       "    }\n",
       "\n",
       "    .dataframe thead th {\n",
       "        text-align: right;\n",
       "    }\n",
       "</style>\n",
       "<table border=\"1\" class=\"dataframe\">\n",
       "  <thead>\n",
       "    <tr style=\"text-align: right;\">\n",
       "      <th></th>\n",
       "      <th>originalText</th>\n",
       "      <th>label_4class</th>\n",
       "      <th>label_36class</th>\n",
       "      <th>label_class</th>\n",
       "    </tr>\n",
       "  </thead>\n",
       "  <tbody>\n",
       "    <tr>\n",
       "      <th>0</th>\n",
       "      <td>在县医院确诊肺结核，吃免费抗结核药一个半月，咳嗽加重，咳痰有血丝，需要怎样进一步治疗</td>\n",
       "      <td>['病症']</td>\n",
       "      <td>['治疗方法']</td>\n",
       "      <td>None</td>\n",
       "    </tr>\n",
       "    <tr>\n",
       "      <th>1</th>\n",
       "      <td>肚子上长了些红色痘是风疹吗？</td>\n",
       "      <td>['病症']</td>\n",
       "      <td>['定义']</td>\n",
       "      <td>None</td>\n",
       "    </tr>\n",
       "    <tr>\n",
       "      <th>2</th>\n",
       "      <td>肚子上长红色痘会有可能是风疹吗</td>\n",
       "      <td>['病症']</td>\n",
       "      <td>['定义']</td>\n",
       "      <td>None</td>\n",
       "    </tr>\n",
       "    <tr>\n",
       "      <th>3</th>\n",
       "      <td>肚子上长痘会是风疹吗</td>\n",
       "      <td>['病症']</td>\n",
       "      <td>['定义']</td>\n",
       "      <td>None</td>\n",
       "    </tr>\n",
       "    <tr>\n",
       "      <th>4</th>\n",
       "      <td>两天前开始喉咙痛，咽喉部有浓痰，睡觉痰有影响呼吸问题，头痛，今天凌晨开始流鼻涕，腿软</td>\n",
       "      <td>['病症']</td>\n",
       "      <td>['临床表现(病症表现)']</td>\n",
       "      <td>None</td>\n",
       "    </tr>\n",
       "  </tbody>\n",
       "</table>\n",
       "</div>"
      ],
      "text/plain": [
       "                                 originalText label_4class   label_36class  \\\n",
       "0  在县医院确诊肺结核，吃免费抗结核药一个半月，咳嗽加重，咳痰有血丝，需要怎样进一步治疗       ['病症']        ['治疗方法']   \n",
       "1                              肚子上长了些红色痘是风疹吗？       ['病症']          ['定义']   \n",
       "2                             肚子上长红色痘会有可能是风疹吗       ['病症']          ['定义']   \n",
       "3                                  肚子上长痘会是风疹吗       ['病症']          ['定义']   \n",
       "4  两天前开始喉咙痛，咽喉部有浓痰，睡觉痰有影响呼吸问题，头痛，今天凌晨开始流鼻涕，腿软       ['病症']  ['临床表现(病症表现)']   \n",
       "\n",
       "  label_class  \n",
       "0        None  \n",
       "1        None  \n",
       "2        None  \n",
       "3        None  \n",
       "4        None  "
      ]
     },
     "execution_count": 8,
     "metadata": {},
     "output_type": "execute_result"
    }
   ],
   "source": [
    "df[\"label_class\"] = df.apply(pickup_label, axis=1)\n",
    "df.head()"
   ]
  },
  {
   "cell_type": "code",
   "execution_count": 9,
   "id": "289fb8c0",
   "metadata": {},
   "outputs": [
    {
     "data": {
      "text/html": [
       "<div>\n",
       "<style scoped>\n",
       "    .dataframe tbody tr th:only-of-type {\n",
       "        vertical-align: middle;\n",
       "    }\n",
       "\n",
       "    .dataframe tbody tr th {\n",
       "        vertical-align: top;\n",
       "    }\n",
       "\n",
       "    .dataframe thead th {\n",
       "        text-align: right;\n",
       "    }\n",
       "</style>\n",
       "<table border=\"1\" class=\"dataframe\">\n",
       "  <thead>\n",
       "    <tr style=\"text-align: right;\">\n",
       "      <th></th>\n",
       "      <th>originalText</th>\n",
       "      <th>label_4class</th>\n",
       "      <th>label_36class</th>\n",
       "      <th>label_class</th>\n",
       "    </tr>\n",
       "  </thead>\n",
       "  <tbody>\n",
       "    <tr>\n",
       "      <th>0</th>\n",
       "      <td>医生，请问感冒了可以去体检吗</td>\n",
       "      <td>[病症]</td>\n",
       "      <td>[治疗方法]</td>\n",
       "      <td>治疗方法</td>\n",
       "    </tr>\n",
       "    <tr>\n",
       "      <th>1</th>\n",
       "      <td>对甲醛经常过敏，头痛，流鼻涕，嗓子氧，四肢无力？</td>\n",
       "      <td>[病症]</td>\n",
       "      <td>[临床表现(病症表现)]</td>\n",
       "      <td>临床表现(病症表现)</td>\n",
       "    </tr>\n",
       "    <tr>\n",
       "      <th>2</th>\n",
       "      <td>班里有男同学得了肺结核住院了，我男朋友以前用他杯子喝过水，最近学校给做了肺结核皮试，男朋友做...</td>\n",
       "      <td>[病症]</td>\n",
       "      <td>[传染性]</td>\n",
       "      <td>传染性</td>\n",
       "    </tr>\n",
       "    <tr>\n",
       "      <th>3</th>\n",
       "      <td>最初是感冒嗓子工，然后吃药好了，过程中出现舌头白一个月，还不好吃好多药，说是什么脾胃虚寒</td>\n",
       "      <td>[病症]</td>\n",
       "      <td>[临床表现(病症表现)]</td>\n",
       "      <td>临床表现(病症表现)</td>\n",
       "    </tr>\n",
       "    <tr>\n",
       "      <th>4</th>\n",
       "      <td>小孩咳嗽的厉害，喝了好多止咳消炎的药都不见好转，胃口也不好了</td>\n",
       "      <td>[病症]</td>\n",
       "      <td>[临床表现(病症表现)]</td>\n",
       "      <td>临床表现(病症表现)</td>\n",
       "    </tr>\n",
       "  </tbody>\n",
       "</table>\n",
       "</div>"
      ],
      "text/plain": [
       "                                        originalText label_4class  \\\n",
       "0                                     医生，请问感冒了可以去体检吗         [病症]   \n",
       "1                           对甲醛经常过敏，头痛，流鼻涕，嗓子氧，四肢无力？         [病症]   \n",
       "2  班里有男同学得了肺结核住院了，我男朋友以前用他杯子喝过水，最近学校给做了肺结核皮试，男朋友做...         [病症]   \n",
       "3       最初是感冒嗓子工，然后吃药好了，过程中出现舌头白一个月，还不好吃好多药，说是什么脾胃虚寒         [病症]   \n",
       "4                     小孩咳嗽的厉害，喝了好多止咳消炎的药都不见好转，胃口也不好了         [病症]   \n",
       "\n",
       "  label_36class label_class  \n",
       "0        [治疗方法]        治疗方法  \n",
       "1  [临床表现(病症表现)]  临床表现(病症表现)  \n",
       "2         [传染性]         传染性  \n",
       "3  [临床表现(病症表现)]  临床表现(病症表现)  \n",
       "4  [临床表现(病症表现)]  临床表现(病症表现)  "
      ]
     },
     "execution_count": 9,
     "metadata": {},
     "output_type": "execute_result"
    }
   ],
   "source": [
    "df = df.dropna(subset=[\"label_class\"])\n",
    "df = df.reset_index(drop=True)\n",
    "df.head()"
   ]
  },
  {
   "cell_type": "code",
   "execution_count": 10,
   "id": "b6accfc0",
   "metadata": {},
   "outputs": [
    {
     "name": "stdout",
     "output_type": "stream",
     "text": [
      "<class 'pandas.core.frame.DataFrame'>\n",
      "RangeIndex: 3656 entries, 0 to 3655\n",
      "Data columns (total 4 columns):\n",
      " #   Column         Non-Null Count  Dtype \n",
      "---  ------         --------------  ----- \n",
      " 0   originalText   3656 non-null   object\n",
      " 1   label_4class   3656 non-null   object\n",
      " 2   label_36class  3656 non-null   object\n",
      " 3   label_class    3656 non-null   object\n",
      "dtypes: object(4)\n",
      "memory usage: 114.4+ KB\n"
     ]
    }
   ],
   "source": [
    "df.info()"
   ]
  },
  {
   "cell_type": "markdown",
   "id": "f77c2446",
   "metadata": {},
   "source": [
    "## 数据分析"
   ]
  },
  {
   "cell_type": "code",
   "execution_count": 11,
   "id": "1f29a5e4",
   "metadata": {},
   "outputs": [],
   "source": [
    "import matplotlib"
   ]
  },
  {
   "cell_type": "code",
   "execution_count": 12,
   "id": "24c30461",
   "metadata": {},
   "outputs": [],
   "source": [
    "from matplotlib import pyplot as plt"
   ]
  },
  {
   "cell_type": "code",
   "execution_count": 13,
   "id": "322c93a7",
   "metadata": {},
   "outputs": [],
   "source": [
    "matplotlib.rcParams[\"font.sans-serif\"] = [\"SimSun\"]\n",
    "matplotlib.rcParams[\"font.serif\"]=\"SimSun\""
   ]
  },
  {
   "cell_type": "code",
   "execution_count": 14,
   "id": "1d14b1f2",
   "metadata": {},
   "outputs": [
    {
     "data": {
      "text/plain": [
       "<AxesSubplot:>"
      ]
     },
     "execution_count": 14,
     "metadata": {},
     "output_type": "execute_result"
    },
    {
     "data": {
      "image/png": "[encoded data removed]",
      "text/plain": [
       "<Figure size 720x432 with 1 Axes>"
      ]
     },
     "metadata": {
      "needs_background": "light"
     },
     "output_type": "display_data"
    }
   ],
   "source": [
    "plt.figure(figsize=(10, 6))\n",
    "df[\"label_class\"].value_counts().plot.bar(rot=50)"
   ]
  },
  {
   "cell_type": "code",
   "execution_count": 133,
   "id": "28f4ddee",
   "metadata": {},
   "outputs": [
    {
     "data": {
      "text/html": [
       "<div>\n",
       "<style scoped>\n",
       "    .dataframe tbody tr th:only-of-type {\n",
       "        vertical-align: middle;\n",
       "    }\n",
       "\n",
       "    .dataframe tbody tr th {\n",
       "        vertical-align: top;\n",
       "    }\n",
       "\n",
       "    .dataframe thead th {\n",
       "        text-align: right;\n",
       "    }\n",
       "</style>\n",
       "<table border=\"1\" class=\"dataframe\">\n",
       "  <thead>\n",
       "    <tr style=\"text-align: right;\">\n",
       "      <th></th>\n",
       "      <th>originalText</th>\n",
       "      <th>label_4class</th>\n",
       "      <th>label_36class</th>\n",
       "      <th>label_class</th>\n",
       "    </tr>\n",
       "  </thead>\n",
       "  <tbody>\n",
       "    <tr>\n",
       "      <th>2745</th>\n",
       "      <td>我最近因颈椎引起脑贡血不足可以吃阿胶吗</td>\n",
       "      <td>[病症]</td>\n",
       "      <td>[禁忌]</td>\n",
       "      <td>禁忌</td>\n",
       "    </tr>\n",
       "    <tr>\n",
       "      <th>2747</th>\n",
       "      <td>请问，桂附地黄丸和腰痛宁胶囊、颈复康颗粒能同吃吗？医生你说说看。</td>\n",
       "      <td>[药物]</td>\n",
       "      <td>[禁忌]</td>\n",
       "      <td>禁忌</td>\n",
       "    </tr>\n",
       "  </tbody>\n",
       "</table>\n",
       "</div>"
      ],
      "text/plain": [
       "                          originalText label_4class label_36class label_class\n",
       "2745               我最近因颈椎引起脑贡血不足可以吃阿胶吗         [病症]          [禁忌]          禁忌\n",
       "2747  请问，桂附地黄丸和腰痛宁胶囊、颈复康颗粒能同吃吗？医生你说说看。         [药物]          [禁忌]          禁忌"
      ]
     },
     "execution_count": 133,
     "metadata": {},
     "output_type": "execute_result"
    }
   ],
   "source": [
    "df[df[\"label_class\"] == \"禁忌\"]"
   ]
  },
  {
   "cell_type": "code",
   "execution_count": 15,
   "id": "e515b7b1",
   "metadata": {},
   "outputs": [],
   "source": [
    "df = df[df[\"label_class\"] != \"禁忌\"]"
   ]
  },
  {
   "cell_type": "code",
   "execution_count": 134,
   "id": "cc1f0017",
   "metadata": {},
   "outputs": [
    {
     "data": {
      "text/html": [
       "<div>\n",
       "<style scoped>\n",
       "    .dataframe tbody tr th:only-of-type {\n",
       "        vertical-align: middle;\n",
       "    }\n",
       "\n",
       "    .dataframe tbody tr th {\n",
       "        vertical-align: top;\n",
       "    }\n",
       "\n",
       "    .dataframe thead th {\n",
       "        text-align: right;\n",
       "    }\n",
       "</style>\n",
       "<table border=\"1\" class=\"dataframe\">\n",
       "  <thead>\n",
       "    <tr style=\"text-align: right;\">\n",
       "      <th></th>\n",
       "      <th>originalText</th>\n",
       "      <th>label_4class</th>\n",
       "      <th>label_36class</th>\n",
       "      <th>label_class</th>\n",
       "    </tr>\n",
       "  </thead>\n",
       "  <tbody>\n",
       "    <tr>\n",
       "      <th>9</th>\n",
       "      <td>风疹，有什么忌讳吗？可以吹空调吗？</td>\n",
       "      <td>[病症]</td>\n",
       "      <td>[病症禁忌]</td>\n",
       "      <td>病症禁忌</td>\n",
       "    </tr>\n",
       "    <tr>\n",
       "      <th>33</th>\n",
       "      <td>感冒后咳嗽可以吃鸡蛋吗？</td>\n",
       "      <td>[病症]</td>\n",
       "      <td>[病症禁忌]</td>\n",
       "      <td>病症禁忌</td>\n",
       "    </tr>\n",
       "    <tr>\n",
       "      <th>49</th>\n",
       "      <td>吃完槟榔可以吃感冒药吗</td>\n",
       "      <td>[病症]</td>\n",
       "      <td>[病症禁忌]</td>\n",
       "      <td>病症禁忌</td>\n",
       "    </tr>\n",
       "    <tr>\n",
       "      <th>55</th>\n",
       "      <td>吃感冒药以后吃桂圆行吗</td>\n",
       "      <td>[病症]</td>\n",
       "      <td>[病症禁忌]</td>\n",
       "      <td>病症禁忌</td>\n",
       "    </tr>\n",
       "    <tr>\n",
       "      <th>70</th>\n",
       "      <td>咳嗽一周多，然后去看病，医生说我支气管炎，然后打了针，我忘记问需不需要忌酒</td>\n",
       "      <td>[病症]</td>\n",
       "      <td>[病症禁忌]</td>\n",
       "      <td>病症禁忌</td>\n",
       "    </tr>\n",
       "    <tr>\n",
       "      <th>...</th>\n",
       "      <td>...</td>\n",
       "      <td>...</td>\n",
       "      <td>...</td>\n",
       "      <td>...</td>\n",
       "    </tr>\n",
       "    <tr>\n",
       "      <th>3584</th>\n",
       "      <td>脑血管瘤手术后注意什么</td>\n",
       "      <td>[病症]</td>\n",
       "      <td>[病症禁忌]</td>\n",
       "      <td>病症禁忌</td>\n",
       "    </tr>\n",
       "    <tr>\n",
       "      <th>3619</th>\n",
       "      <td>我最近发现我的龟头上面，长了很多的红点点，我没有在意，但是一直好不了，就去医院做了检查，结果...</td>\n",
       "      <td>[病症]</td>\n",
       "      <td>[病症禁忌]</td>\n",
       "      <td>病症禁忌</td>\n",
       "    </tr>\n",
       "    <tr>\n",
       "      <th>3645</th>\n",
       "      <td>我老公最近身体很不舒服，说是下面长了很多的小水泡的了，搞得他最近很是郁闷的啊。准备去医院治疗...</td>\n",
       "      <td>[病症]</td>\n",
       "      <td>[病症禁忌]</td>\n",
       "      <td>病症禁忌</td>\n",
       "    </tr>\n",
       "    <tr>\n",
       "      <th>3646</th>\n",
       "      <td>前几天有一天正在上班的时候，感觉阴茎上特别痒，我就去洗手间一看，眼看着就起了几个特别痒的水泡...</td>\n",
       "      <td>[病症]</td>\n",
       "      <td>[病症禁忌]</td>\n",
       "      <td>病症禁忌</td>\n",
       "    </tr>\n",
       "    <tr>\n",
       "      <th>3652</th>\n",
       "      <td>这几天我的下面出现了很多红斑，还总是觉得疼和痒，可是抓过之后就会起水泡，水泡破裂后还有流脓的...</td>\n",
       "      <td>[病症]</td>\n",
       "      <td>[病症禁忌]</td>\n",
       "      <td>病症禁忌</td>\n",
       "    </tr>\n",
       "  </tbody>\n",
       "</table>\n",
       "<p>105 rows × 4 columns</p>\n",
       "</div>"
      ],
      "text/plain": [
       "                                           originalText label_4class  \\\n",
       "9                                     风疹，有什么忌讳吗？可以吹空调吗？         [病症]   \n",
       "33                                         感冒后咳嗽可以吃鸡蛋吗？         [病症]   \n",
       "49                                          吃完槟榔可以吃感冒药吗         [病症]   \n",
       "55                                          吃感冒药以后吃桂圆行吗         [病症]   \n",
       "70                咳嗽一周多，然后去看病，医生说我支气管炎，然后打了针，我忘记问需不需要忌酒         [病症]   \n",
       "...                                                 ...          ...   \n",
       "3584                                        脑血管瘤手术后注意什么         [病症]   \n",
       "3619  我最近发现我的龟头上面，长了很多的红点点，我没有在意，但是一直好不了，就去医院做了检查，结果...         [病症]   \n",
       "3645  我老公最近身体很不舒服，说是下面长了很多的小水泡的了，搞得他最近很是郁闷的啊。准备去医院治疗...         [病症]   \n",
       "3646  前几天有一天正在上班的时候，感觉阴茎上特别痒，我就去洗手间一看，眼看着就起了几个特别痒的水泡...         [病症]   \n",
       "3652  这几天我的下面出现了很多红斑，还总是觉得疼和痒，可是抓过之后就会起水泡，水泡破裂后还有流脓的...         [病症]   \n",
       "\n",
       "     label_36class label_class  \n",
       "9           [病症禁忌]        病症禁忌  \n",
       "33          [病症禁忌]        病症禁忌  \n",
       "49          [病症禁忌]        病症禁忌  \n",
       "55          [病症禁忌]        病症禁忌  \n",
       "70          [病症禁忌]        病症禁忌  \n",
       "...            ...         ...  \n",
       "3584        [病症禁忌]        病症禁忌  \n",
       "3619        [病症禁忌]        病症禁忌  \n",
       "3645        [病症禁忌]        病症禁忌  \n",
       "3646        [病症禁忌]        病症禁忌  \n",
       "3652        [病症禁忌]        病症禁忌  \n",
       "\n",
       "[105 rows x 4 columns]"
      ]
     },
     "execution_count": 134,
     "metadata": {},
     "output_type": "execute_result"
    }
   ],
   "source": [
    "df[df[\"label_class\"] == \"病症禁忌\"]"
   ]
  },
  {
   "cell_type": "code",
   "execution_count": 17,
   "id": "0a352e09",
   "metadata": {},
   "outputs": [
    {
     "data": {
      "text/html": [
       "<div>\n",
       "<style scoped>\n",
       "    .dataframe tbody tr th:only-of-type {\n",
       "        vertical-align: middle;\n",
       "    }\n",
       "\n",
       "    .dataframe tbody tr th {\n",
       "        vertical-align: top;\n",
       "    }\n",
       "\n",
       "    .dataframe thead th {\n",
       "        text-align: right;\n",
       "    }\n",
       "</style>\n",
       "<table border=\"1\" class=\"dataframe\">\n",
       "  <thead>\n",
       "    <tr style=\"text-align: right;\">\n",
       "      <th></th>\n",
       "      <th>originalText</th>\n",
       "      <th>label_4class</th>\n",
       "      <th>label_36class</th>\n",
       "      <th>label_class</th>\n",
       "    </tr>\n",
       "  </thead>\n",
       "  <tbody>\n",
       "    <tr>\n",
       "      <th>0</th>\n",
       "      <td>医生，请问感冒了可以去体检吗</td>\n",
       "      <td>[病症]</td>\n",
       "      <td>[治疗方法]</td>\n",
       "      <td>治疗方法</td>\n",
       "    </tr>\n",
       "    <tr>\n",
       "      <th>1</th>\n",
       "      <td>对甲醛经常过敏，头痛，流鼻涕，嗓子氧，四肢无力？</td>\n",
       "      <td>[病症]</td>\n",
       "      <td>[临床表现(病症表现)]</td>\n",
       "      <td>临床表现(病症表现)</td>\n",
       "    </tr>\n",
       "    <tr>\n",
       "      <th>2</th>\n",
       "      <td>班里有男同学得了肺结核住院了，我男朋友以前用他杯子喝过水，最近学校给做了肺结核皮试，男朋友做...</td>\n",
       "      <td>[病症]</td>\n",
       "      <td>[传染性]</td>\n",
       "      <td>传染性</td>\n",
       "    </tr>\n",
       "    <tr>\n",
       "      <th>3</th>\n",
       "      <td>最初是感冒嗓子工，然后吃药好了，过程中出现舌头白一个月，还不好吃好多药，说是什么脾胃虚寒</td>\n",
       "      <td>[病症]</td>\n",
       "      <td>[临床表现(病症表现)]</td>\n",
       "      <td>临床表现(病症表现)</td>\n",
       "    </tr>\n",
       "    <tr>\n",
       "      <th>4</th>\n",
       "      <td>小孩咳嗽的厉害，喝了好多止咳消炎的药都不见好转，胃口也不好了</td>\n",
       "      <td>[病症]</td>\n",
       "      <td>[临床表现(病症表现)]</td>\n",
       "      <td>临床表现(病症表现)</td>\n",
       "    </tr>\n",
       "  </tbody>\n",
       "</table>\n",
       "</div>"
      ],
      "text/plain": [
       "                                        originalText label_4class  \\\n",
       "0                                     医生，请问感冒了可以去体检吗         [病症]   \n",
       "1                           对甲醛经常过敏，头痛，流鼻涕，嗓子氧，四肢无力？         [病症]   \n",
       "2  班里有男同学得了肺结核住院了，我男朋友以前用他杯子喝过水，最近学校给做了肺结核皮试，男朋友做...         [病症]   \n",
       "3       最初是感冒嗓子工，然后吃药好了，过程中出现舌头白一个月，还不好吃好多药，说是什么脾胃虚寒         [病症]   \n",
       "4                     小孩咳嗽的厉害，喝了好多止咳消炎的药都不见好转，胃口也不好了         [病症]   \n",
       "\n",
       "  label_36class label_class  \n",
       "0        [治疗方法]        治疗方法  \n",
       "1  [临床表现(病症表现)]  临床表现(病症表现)  \n",
       "2         [传染性]         传染性  \n",
       "3  [临床表现(病症表现)]  临床表现(病症表现)  \n",
       "4  [临床表现(病症表现)]  临床表现(病症表现)  "
      ]
     },
     "execution_count": 17,
     "metadata": {},
     "output_type": "execute_result"
    }
   ],
   "source": [
    "df.head()"
   ]
  },
  {
   "cell_type": "markdown",
   "id": "2b19abb2",
   "metadata": {},
   "source": [
    "## 转换标签和划分数据集"
   ]
  },
  {
   "cell_type": "code",
   "execution_count": 18,
   "id": "536ff0a7",
   "metadata": {},
   "outputs": [],
   "source": [
    "from sklearn.model_selection import train_test_split"
   ]
  },
  {
   "cell_type": "code",
   "execution_count": 20,
   "id": "a81b8150",
   "metadata": {},
   "outputs": [],
   "source": [
    "use_class.remove(\"禁忌\")"
   ]
  },
  {
   "cell_type": "code",
   "execution_count": 22,
   "id": "b25f2c1a",
   "metadata": {},
   "outputs": [
    {
     "data": {
      "text/plain": [
       "{'临床表现(病症表现)': 0,\n",
       " '传染性': 1,\n",
       " '其他': 2,\n",
       " '化验/体检方案': 3,\n",
       " '定义': 4,\n",
       " '所属科室': 5,\n",
       " '方法': 6,\n",
       " '治愈率': 7,\n",
       " '治疗方法': 8,\n",
       " '治疗时间': 9,\n",
       " '病因': 10,\n",
       " '病症禁忌': 11,\n",
       " '相关病症': 12,\n",
       " '费用': 13,\n",
       " '适用症': 14,\n",
       " '预防': 15}"
      ]
     },
     "execution_count": 22,
     "metadata": {},
     "output_type": "execute_result"
    }
   ],
   "source": [
    "id2class = dict(enumerate(sorted(use_class)))\n",
    "class2id = {v:k for k, v in id2class.items()}\n",
    "class2id"
   ]
  },
  {
   "cell_type": "code",
   "execution_count": 23,
   "id": "99d159c7",
   "metadata": {},
   "outputs": [
    {
     "name": "stdout",
     "output_type": "stream",
     "text": [
      "治疗方法\n",
      "临床表现(病症表现)\n",
      "传染性\n",
      "适用症\n",
      "其他\n",
      "病症禁忌\n",
      "病因\n",
      "相关病症\n",
      "方法\n",
      "定义\n",
      "预防\n",
      "治愈率\n",
      "化验/体检方案\n",
      "费用\n",
      "所属科室\n"
     ]
    }
   ],
   "source": [
    "print(*df[\"label_class\"].unique(), sep=\"\\n\")"
   ]
  },
  {
   "cell_type": "code",
   "execution_count": 24,
   "id": "2cb2f823",
   "metadata": {},
   "outputs": [
    {
     "data": {
      "text/html": [
       "<div>\n",
       "<style scoped>\n",
       "    .dataframe tbody tr th:only-of-type {\n",
       "        vertical-align: middle;\n",
       "    }\n",
       "\n",
       "    .dataframe tbody tr th {\n",
       "        vertical-align: top;\n",
       "    }\n",
       "\n",
       "    .dataframe thead th {\n",
       "        text-align: right;\n",
       "    }\n",
       "</style>\n",
       "<table border=\"1\" class=\"dataframe\">\n",
       "  <thead>\n",
       "    <tr style=\"text-align: right;\">\n",
       "      <th></th>\n",
       "      <th>originalText</th>\n",
       "      <th>label_4class</th>\n",
       "      <th>label_36class</th>\n",
       "      <th>label_class</th>\n",
       "      <th>label</th>\n",
       "    </tr>\n",
       "  </thead>\n",
       "  <tbody>\n",
       "    <tr>\n",
       "      <th>0</th>\n",
       "      <td>医生，请问感冒了可以去体检吗</td>\n",
       "      <td>[病症]</td>\n",
       "      <td>[治疗方法]</td>\n",
       "      <td>治疗方法</td>\n",
       "      <td>8</td>\n",
       "    </tr>\n",
       "    <tr>\n",
       "      <th>1</th>\n",
       "      <td>对甲醛经常过敏，头痛，流鼻涕，嗓子氧，四肢无力？</td>\n",
       "      <td>[病症]</td>\n",
       "      <td>[临床表现(病症表现)]</td>\n",
       "      <td>临床表现(病症表现)</td>\n",
       "      <td>0</td>\n",
       "    </tr>\n",
       "    <tr>\n",
       "      <th>2</th>\n",
       "      <td>班里有男同学得了肺结核住院了，我男朋友以前用他杯子喝过水，最近学校给做了肺结核皮试，男朋友做...</td>\n",
       "      <td>[病症]</td>\n",
       "      <td>[传染性]</td>\n",
       "      <td>传染性</td>\n",
       "      <td>1</td>\n",
       "    </tr>\n",
       "    <tr>\n",
       "      <th>3</th>\n",
       "      <td>最初是感冒嗓子工，然后吃药好了，过程中出现舌头白一个月，还不好吃好多药，说是什么脾胃虚寒</td>\n",
       "      <td>[病症]</td>\n",
       "      <td>[临床表现(病症表现)]</td>\n",
       "      <td>临床表现(病症表现)</td>\n",
       "      <td>0</td>\n",
       "    </tr>\n",
       "    <tr>\n",
       "      <th>4</th>\n",
       "      <td>小孩咳嗽的厉害，喝了好多止咳消炎的药都不见好转，胃口也不好了</td>\n",
       "      <td>[病症]</td>\n",
       "      <td>[临床表现(病症表现)]</td>\n",
       "      <td>临床表现(病症表现)</td>\n",
       "      <td>0</td>\n",
       "    </tr>\n",
       "  </tbody>\n",
       "</table>\n",
       "</div>"
      ],
      "text/plain": [
       "                                        originalText label_4class  \\\n",
       "0                                     医生，请问感冒了可以去体检吗         [病症]   \n",
       "1                           对甲醛经常过敏，头痛，流鼻涕，嗓子氧，四肢无力？         [病症]   \n",
       "2  班里有男同学得了肺结核住院了，我男朋友以前用他杯子喝过水，最近学校给做了肺结核皮试，男朋友做...         [病症]   \n",
       "3       最初是感冒嗓子工，然后吃药好了，过程中出现舌头白一个月，还不好吃好多药，说是什么脾胃虚寒         [病症]   \n",
       "4                     小孩咳嗽的厉害，喝了好多止咳消炎的药都不见好转，胃口也不好了         [病症]   \n",
       "\n",
       "  label_36class label_class  label  \n",
       "0        [治疗方法]        治疗方法      8  \n",
       "1  [临床表现(病症表现)]  临床表现(病症表现)      0  \n",
       "2         [传染性]         传染性      1  \n",
       "3  [临床表现(病症表现)]  临床表现(病症表现)      0  \n",
       "4  [临床表现(病症表现)]  临床表现(病症表现)      0  "
      ]
     },
     "execution_count": 24,
     "metadata": {},
     "output_type": "execute_result"
    }
   ],
   "source": [
    "df[\"label\"] = df[\"label_class\"].map(class2id)\n",
    "df.head()"
   ]
  },
  {
   "cell_type": "code",
   "execution_count": 25,
   "id": "6a1d4fef",
   "metadata": {},
   "outputs": [
    {
     "name": "stdout",
     "output_type": "stream",
     "text": [
      "<class 'pandas.core.frame.DataFrame'>\n",
      "Int64Index: 3654 entries, 0 to 3655\n",
      "Data columns (total 5 columns):\n",
      " #   Column         Non-Null Count  Dtype \n",
      "---  ------         --------------  ----- \n",
      " 0   originalText   3654 non-null   object\n",
      " 1   label_4class   3654 non-null   object\n",
      " 2   label_36class  3654 non-null   object\n",
      " 3   label_class    3654 non-null   object\n",
      " 4   label          3654 non-null   int64 \n",
      "dtypes: int64(1), object(4)\n",
      "memory usage: 171.3+ KB\n"
     ]
    }
   ],
   "source": [
    "df.info()"
   ]
  },
  {
   "cell_type": "code",
   "execution_count": 29,
   "id": "ae710be2",
   "metadata": {},
   "outputs": [],
   "source": [
    "X, y = df[[\"originalText\", \"label_class\"]], df[\"label\"]\n",
    "df_train, df_test, y_train, y_test = train_test_split(X, y, test_size=0.2, random_state=21, stratify=y)"
   ]
  },
  {
   "cell_type": "code",
   "execution_count": 30,
   "id": "c769ec2e",
   "metadata": {},
   "outputs": [
    {
     "data": {
      "text/html": [
       "<div>\n",
       "<style scoped>\n",
       "    .dataframe tbody tr th:only-of-type {\n",
       "        vertical-align: middle;\n",
       "    }\n",
       "\n",
       "    .dataframe tbody tr th {\n",
       "        vertical-align: top;\n",
       "    }\n",
       "\n",
       "    .dataframe thead th {\n",
       "        text-align: right;\n",
       "    }\n",
       "</style>\n",
       "<table border=\"1\" class=\"dataframe\">\n",
       "  <thead>\n",
       "    <tr style=\"text-align: right;\">\n",
       "      <th></th>\n",
       "      <th>originalText</th>\n",
       "      <th>label_class</th>\n",
       "      <th>label</th>\n",
       "    </tr>\n",
       "  </thead>\n",
       "  <tbody>\n",
       "    <tr>\n",
       "      <th>448</th>\n",
       "      <td>我同学患有癫痫,可是平时基本上不会发作，总是每个月月经前期无精神，无食欲，口吐白沫等,一直在...</td>\n",
       "      <td>其他</td>\n",
       "      <td>2</td>\n",
       "    </tr>\n",
       "    <tr>\n",
       "      <th>1988</th>\n",
       "      <td>感冒引起的咳嗽有痰多年的肺气肿身体虚弱经常感冒</td>\n",
       "      <td>其他</td>\n",
       "      <td>2</td>\n",
       "    </tr>\n",
       "    <tr>\n",
       "      <th>1970</th>\n",
       "      <td>不知道复方扶芳藤胶囊这个药物适合患有心脏病的老年人吃不</td>\n",
       "      <td>适用症</td>\n",
       "      <td>14</td>\n",
       "    </tr>\n",
       "    <tr>\n",
       "      <th>3292</th>\n",
       "      <td>右肾结石，右肾轻度积水</td>\n",
       "      <td>临床表现(病症表现)</td>\n",
       "      <td>0</td>\n",
       "    </tr>\n",
       "    <tr>\n",
       "      <th>2996</th>\n",
       "      <td>你好，我想咨询一下，为什么我的强迫症跟洁癖越来越严重，不喜欢别人碰我的东西，看到东西放乱就特...</td>\n",
       "      <td>其他</td>\n",
       "      <td>2</td>\n",
       "    </tr>\n",
       "  </tbody>\n",
       "</table>\n",
       "</div>"
      ],
      "text/plain": [
       "                                           originalText label_class  label\n",
       "448   我同学患有癫痫,可是平时基本上不会发作，总是每个月月经前期无精神，无食欲，口吐白沫等,一直在...          其他      2\n",
       "1988                            感冒引起的咳嗽有痰多年的肺气肿身体虚弱经常感冒          其他      2\n",
       "1970                        不知道复方扶芳藤胶囊这个药物适合患有心脏病的老年人吃不         适用症     14\n",
       "3292                                        右肾结石，右肾轻度积水  临床表现(病症表现)      0\n",
       "2996  你好，我想咨询一下，为什么我的强迫症跟洁癖越来越严重，不喜欢别人碰我的东西，看到东西放乱就特...          其他      2"
      ]
     },
     "execution_count": 30,
     "metadata": {},
     "output_type": "execute_result"
    }
   ],
   "source": [
    "df_train[\"label\"] = y_train\n",
    "df_train.head()"
   ]
  },
  {
   "cell_type": "code",
   "execution_count": 31,
   "id": "51841018",
   "metadata": {},
   "outputs": [
    {
     "name": "stdout",
     "output_type": "stream",
     "text": [
      "<class 'pandas.core.frame.DataFrame'>\n",
      "Int64Index: 2923 entries, 448 to 1500\n",
      "Data columns (total 3 columns):\n",
      " #   Column        Non-Null Count  Dtype \n",
      "---  ------        --------------  ----- \n",
      " 0   originalText  2923 non-null   object\n",
      " 1   label_class   2923 non-null   object\n",
      " 2   label         2923 non-null   int64 \n",
      "dtypes: int64(1), object(2)\n",
      "memory usage: 91.3+ KB\n"
     ]
    }
   ],
   "source": [
    "df_train.info()"
   ]
  },
  {
   "cell_type": "code",
   "execution_count": 32,
   "id": "8c75c96d",
   "metadata": {},
   "outputs": [
    {
     "data": {
      "text/html": [
       "<div>\n",
       "<style scoped>\n",
       "    .dataframe tbody tr th:only-of-type {\n",
       "        vertical-align: middle;\n",
       "    }\n",
       "\n",
       "    .dataframe tbody tr th {\n",
       "        vertical-align: top;\n",
       "    }\n",
       "\n",
       "    .dataframe thead th {\n",
       "        text-align: right;\n",
       "    }\n",
       "</style>\n",
       "<table border=\"1\" class=\"dataframe\">\n",
       "  <thead>\n",
       "    <tr style=\"text-align: right;\">\n",
       "      <th></th>\n",
       "      <th>originalText</th>\n",
       "      <th>label_class</th>\n",
       "      <th>label</th>\n",
       "    </tr>\n",
       "  </thead>\n",
       "  <tbody>\n",
       "    <tr>\n",
       "      <th>1669</th>\n",
       "      <td>糖尿病患了这种病症，我还能怎么治疗一下呢？</td>\n",
       "      <td>治疗方法</td>\n",
       "      <td>8</td>\n",
       "    </tr>\n",
       "    <tr>\n",
       "      <th>3198</th>\n",
       "      <td>阴茎短小阴茎短小阴茎短小</td>\n",
       "      <td>其他</td>\n",
       "      <td>2</td>\n",
       "    </tr>\n",
       "    <tr>\n",
       "      <th>1177</th>\n",
       "      <td>心脏病高血压吃西洋参吗</td>\n",
       "      <td>病症禁忌</td>\n",
       "      <td>11</td>\n",
       "    </tr>\n",
       "    <tr>\n",
       "      <th>3126</th>\n",
       "      <td>请问抑郁症患者会有哪些表现？</td>\n",
       "      <td>临床表现(病症表现)</td>\n",
       "      <td>0</td>\n",
       "    </tr>\n",
       "    <tr>\n",
       "      <th>2025</th>\n",
       "      <td>胸口像堵着些东西，并且还很痛。稳心颗粒用多长时间，稳心颗粒能长期服用吗？有什么作用？能长期服用吗？</td>\n",
       "      <td>其他</td>\n",
       "      <td>2</td>\n",
       "    </tr>\n",
       "  </tbody>\n",
       "</table>\n",
       "</div>"
      ],
      "text/plain": [
       "                                           originalText label_class  label\n",
       "1669                              糖尿病患了这种病症，我还能怎么治疗一下呢？        治疗方法      8\n",
       "3198                                       阴茎短小阴茎短小阴茎短小          其他      2\n",
       "1177                                        心脏病高血压吃西洋参吗        病症禁忌     11\n",
       "3126                                     请问抑郁症患者会有哪些表现？  临床表现(病症表现)      0\n",
       "2025  胸口像堵着些东西，并且还很痛。稳心颗粒用多长时间，稳心颗粒能长期服用吗？有什么作用？能长期服用吗？          其他      2"
      ]
     },
     "execution_count": 32,
     "metadata": {},
     "output_type": "execute_result"
    }
   ],
   "source": [
    "df_test[\"label\"] = y_test\n",
    "df_test.head()"
   ]
  },
  {
   "cell_type": "code",
   "execution_count": 33,
   "id": "f60f5a9d",
   "metadata": {},
   "outputs": [
    {
     "name": "stdout",
     "output_type": "stream",
     "text": [
      "<class 'pandas.core.frame.DataFrame'>\n",
      "Int64Index: 731 entries, 1669 to 1272\n",
      "Data columns (total 3 columns):\n",
      " #   Column        Non-Null Count  Dtype \n",
      "---  ------        --------------  ----- \n",
      " 0   originalText  731 non-null    object\n",
      " 1   label_class   731 non-null    object\n",
      " 2   label         731 non-null    int64 \n",
      "dtypes: int64(1), object(2)\n",
      "memory usage: 22.8+ KB\n"
     ]
    }
   ],
   "source": [
    "df_test.info()"
   ]
  },
  {
   "cell_type": "code",
   "execution_count": 34,
   "id": "7d44b7be",
   "metadata": {},
   "outputs": [],
   "source": [
    "df_train.to_csv(\"train.csv\", index=False)\n",
    "df_test.to_csv(\"test.csv\", index=False)"
   ]
  },
  {
   "cell_type": "code",
   "execution_count": null,
   "id": "90badcd5",
   "metadata": {},
   "outputs": [],
   "source": []
  }
 ],
 "metadata": {
  "kernelspec": {
   "display_name": "Python 3 (ipykernel)",
   "language": "python",
   "name": "python3"
  },
  "language_info": {
   "codemirror_mode": {
    "name": "ipython",
    "version": 3
   },
   "file_extension": ".py",
   "mimetype": "text/x-python",
   "name": "python",
   "nbconvert_exporter": "python",
   "pygments_lexer": "ipython3",
   "version": "3.9.1"
  }
 },
 "nbformat": 4,
 "nbformat_minor": 5
}
